{
 "cells": [
  {
   "cell_type": "code",
   "execution_count": 1,
   "metadata": {},
   "outputs": [],
   "source": [
    "import numpy as np \n",
    "import pandas as pd "
   ]
  },
  {
   "cell_type": "code",
   "execution_count": 2,
   "metadata": {},
   "outputs": [
    {
     "data": {
      "text/html": [
       "<div>\n",
       "<style scoped>\n",
       "    .dataframe tbody tr th:only-of-type {\n",
       "        vertical-align: middle;\n",
       "    }\n",
       "\n",
       "    .dataframe tbody tr th {\n",
       "        vertical-align: top;\n",
       "    }\n",
       "\n",
       "    .dataframe thead th {\n",
       "        text-align: right;\n",
       "    }\n",
       "</style>\n",
       "<table border=\"1\" class=\"dataframe\">\n",
       "  <thead>\n",
       "    <tr style=\"text-align: right;\">\n",
       "      <th></th>\n",
       "      <th>Unnamed: 0</th>\n",
       "      <th>S.No</th>\n",
       "      <th>Job Class</th>\n",
       "      <th>Job Title</th>\n",
       "      <th>Min_Salary_USD</th>\n",
       "      <th>Max_Salary_USD</th>\n",
       "      <th>Average Salary_USD</th>\n",
       "      <th>Range_salary_USD</th>\n",
       "      <th>Job Description</th>\n",
       "      <th>Rating</th>\n",
       "      <th>...</th>\n",
       "      <th>Competitors</th>\n",
       "      <th>Easy Apply</th>\n",
       "      <th>Location_City</th>\n",
       "      <th>Location_State</th>\n",
       "      <th>Headquarters_City</th>\n",
       "      <th>Headquarters_State</th>\n",
       "      <th>LAT</th>\n",
       "      <th>LON1</th>\n",
       "      <th>Clean Job Title</th>\n",
       "      <th>skillsset</th>\n",
       "    </tr>\n",
       "  </thead>\n",
       "  <tbody>\n",
       "    <tr>\n",
       "      <th>0</th>\n",
       "      <td>0</td>\n",
       "      <td>12382</td>\n",
       "      <td>Data Analyst</td>\n",
       "      <td>Architect Data Analysis of Research Domain</td>\n",
       "      <td>52925</td>\n",
       "      <td>93000</td>\n",
       "      <td>72962.5</td>\n",
       "      <td>40075</td>\n",
       "      <td>Th candidate should be  able to perform the fo...</td>\n",
       "      <td>3.5</td>\n",
       "      <td>...</td>\n",
       "      <td>NaN</td>\n",
       "      <td>0.0</td>\n",
       "      <td>NaN</td>\n",
       "      <td>NaN</td>\n",
       "      <td>NaN</td>\n",
       "      <td>NaN</td>\n",
       "      <td>NaN</td>\n",
       "      <td>NaN</td>\n",
       "      <td>ARCHITECT DATA ANALYSIS OF RESEARCH DOMAIN</td>\n",
       "      <td>NaN</td>\n",
       "    </tr>\n",
       "    <tr>\n",
       "      <th>1</th>\n",
       "      <td>1</td>\n",
       "      <td>12389</td>\n",
       "      <td>Data Scientist</td>\n",
       "      <td>Assistant Manager - Data Scientist</td>\n",
       "      <td>48000</td>\n",
       "      <td>85000</td>\n",
       "      <td>66500.0</td>\n",
       "      <td>37000</td>\n",
       "      <td>The candidate should be having the below menti...</td>\n",
       "      <td>3.5</td>\n",
       "      <td>...</td>\n",
       "      <td>NaN</td>\n",
       "      <td>NaN</td>\n",
       "      <td>NaN</td>\n",
       "      <td>NaN</td>\n",
       "      <td>NaN</td>\n",
       "      <td>NaN</td>\n",
       "      <td>NaN</td>\n",
       "      <td>NaN</td>\n",
       "      <td>ASSISTANT MANAGER DATA SCIENTIST</td>\n",
       "      <td>NaN</td>\n",
       "    </tr>\n",
       "    <tr>\n",
       "      <th>2</th>\n",
       "      <td>2</td>\n",
       "      <td>12390</td>\n",
       "      <td>Data Scientist</td>\n",
       "      <td>Lead Data Scientist</td>\n",
       "      <td>58000</td>\n",
       "      <td>103000</td>\n",
       "      <td>80500.0</td>\n",
       "      <td>45000</td>\n",
       "      <td>The candidates  role would be:\\nTo primarily l...</td>\n",
       "      <td>4.5</td>\n",
       "      <td>...</td>\n",
       "      <td>NaN</td>\n",
       "      <td>NaN</td>\n",
       "      <td>NaN</td>\n",
       "      <td>NaN</td>\n",
       "      <td>NaN</td>\n",
       "      <td>NaN</td>\n",
       "      <td>NaN</td>\n",
       "      <td>NaN</td>\n",
       "      <td>LEAD DATA SCIENTIST</td>\n",
       "      <td>NaN</td>\n",
       "    </tr>\n",
       "  </tbody>\n",
       "</table>\n",
       "<p>3 rows × 39 columns</p>\n",
       "</div>"
      ],
      "text/plain": [
       "   Unnamed: 0   S.No       Job Class  \\\n",
       "0           0  12382    Data Analyst   \n",
       "1           1  12389  Data Scientist   \n",
       "2           2  12390  Data Scientist   \n",
       "\n",
       "                                    Job Title  Min_Salary_USD  Max_Salary_USD  \\\n",
       "0  Architect Data Analysis of Research Domain           52925           93000   \n",
       "1          Assistant Manager - Data Scientist           48000           85000   \n",
       "2                         Lead Data Scientist           58000          103000   \n",
       "\n",
       "   Average Salary_USD  Range_salary_USD  \\\n",
       "0             72962.5             40075   \n",
       "1             66500.0             37000   \n",
       "2             80500.0             45000   \n",
       "\n",
       "                                     Job Description  Rating  ... Competitors  \\\n",
       "0  Th candidate should be  able to perform the fo...     3.5  ...         NaN   \n",
       "1  The candidate should be having the below menti...     3.5  ...         NaN   \n",
       "2  The candidates  role would be:\\nTo primarily l...     4.5  ...         NaN   \n",
       "\n",
       "  Easy Apply  Location_City  Location_State  Headquarters_City  \\\n",
       "0        0.0            NaN             NaN                NaN   \n",
       "1        NaN            NaN             NaN                NaN   \n",
       "2        NaN            NaN             NaN                NaN   \n",
       "\n",
       "   Headquarters_State  LAT LON1                             Clean Job Title  \\\n",
       "0                 NaN  NaN  NaN  ARCHITECT DATA ANALYSIS OF RESEARCH DOMAIN   \n",
       "1                 NaN  NaN  NaN            ASSISTANT MANAGER DATA SCIENTIST   \n",
       "2                 NaN  NaN  NaN                         LEAD DATA SCIENTIST   \n",
       "\n",
       "   skillsset  \n",
       "0        NaN  \n",
       "1        NaN  \n",
       "2        NaN  \n",
       "\n",
       "[3 rows x 39 columns]"
      ]
     },
     "execution_count": 2,
     "metadata": {},
     "output_type": "execute_result"
    }
   ],
   "source": [
    "jobdescription = pd.read_excel('V3.0 Project OA Data_excel_Testingdata.xlsx',index=True)\n",
    "\n",
    "jobdescription.head(3)"
   ]
  },
  {
   "cell_type": "code",
   "execution_count": 3,
   "metadata": {},
   "outputs": [
    {
     "data": {
      "text/html": [
       "<div>\n",
       "<style scoped>\n",
       "    .dataframe tbody tr th:only-of-type {\n",
       "        vertical-align: middle;\n",
       "    }\n",
       "\n",
       "    .dataframe tbody tr th {\n",
       "        vertical-align: top;\n",
       "    }\n",
       "\n",
       "    .dataframe thead th {\n",
       "        text-align: right;\n",
       "    }\n",
       "</style>\n",
       "<table border=\"1\" class=\"dataframe\">\n",
       "  <thead>\n",
       "    <tr style=\"text-align: right;\">\n",
       "      <th></th>\n",
       "      <th>Unnamed: 0</th>\n",
       "      <th>S.No</th>\n",
       "      <th>Job Class</th>\n",
       "      <th>Job Title</th>\n",
       "      <th>Min_Salary_USD</th>\n",
       "      <th>Max_Salary_USD</th>\n",
       "      <th>Average Salary_USD</th>\n",
       "      <th>Range_salary_USD</th>\n",
       "      <th>Job Description</th>\n",
       "      <th>Rating</th>\n",
       "      <th>...</th>\n",
       "      <th>Easy Apply</th>\n",
       "      <th>Location_City</th>\n",
       "      <th>Location_State</th>\n",
       "      <th>Headquarters_City</th>\n",
       "      <th>Headquarters_State</th>\n",
       "      <th>LAT</th>\n",
       "      <th>LON1</th>\n",
       "      <th>Clean Job Title</th>\n",
       "      <th>skillsset</th>\n",
       "      <th>Clean Job Description</th>\n",
       "    </tr>\n",
       "  </thead>\n",
       "  <tbody>\n",
       "    <tr>\n",
       "      <th>0</th>\n",
       "      <td>0</td>\n",
       "      <td>12382</td>\n",
       "      <td>Data Analyst</td>\n",
       "      <td>Architect Data Analysis of Research Domain</td>\n",
       "      <td>52925</td>\n",
       "      <td>93000</td>\n",
       "      <td>72962.5</td>\n",
       "      <td>40075</td>\n",
       "      <td>Th candidate should be  able to perform the fo...</td>\n",
       "      <td>3.5</td>\n",
       "      <td>...</td>\n",
       "      <td>0.0</td>\n",
       "      <td>NaN</td>\n",
       "      <td>NaN</td>\n",
       "      <td>NaN</td>\n",
       "      <td>NaN</td>\n",
       "      <td>NaN</td>\n",
       "      <td>NaN</td>\n",
       "      <td>ARCHITECT DATA ANALYSIS OF RESEARCH DOMAIN</td>\n",
       "      <td>NaN</td>\n",
       "      <td>Th candidate should be able to perform the fol...</td>\n",
       "    </tr>\n",
       "    <tr>\n",
       "      <th>1</th>\n",
       "      <td>1</td>\n",
       "      <td>12389</td>\n",
       "      <td>Data Scientist</td>\n",
       "      <td>Assistant Manager - Data Scientist</td>\n",
       "      <td>48000</td>\n",
       "      <td>85000</td>\n",
       "      <td>66500.0</td>\n",
       "      <td>37000</td>\n",
       "      <td>The candidate should be having the below menti...</td>\n",
       "      <td>3.5</td>\n",
       "      <td>...</td>\n",
       "      <td>NaN</td>\n",
       "      <td>NaN</td>\n",
       "      <td>NaN</td>\n",
       "      <td>NaN</td>\n",
       "      <td>NaN</td>\n",
       "      <td>NaN</td>\n",
       "      <td>NaN</td>\n",
       "      <td>ASSISTANT MANAGER DATA SCIENTIST</td>\n",
       "      <td>NaN</td>\n",
       "      <td>The candidate should be having the below menti...</td>\n",
       "    </tr>\n",
       "    <tr>\n",
       "      <th>2</th>\n",
       "      <td>2</td>\n",
       "      <td>12390</td>\n",
       "      <td>Data Scientist</td>\n",
       "      <td>Lead Data Scientist</td>\n",
       "      <td>58000</td>\n",
       "      <td>103000</td>\n",
       "      <td>80500.0</td>\n",
       "      <td>45000</td>\n",
       "      <td>The candidates  role would be:\\nTo primarily l...</td>\n",
       "      <td>4.5</td>\n",
       "      <td>...</td>\n",
       "      <td>NaN</td>\n",
       "      <td>NaN</td>\n",
       "      <td>NaN</td>\n",
       "      <td>NaN</td>\n",
       "      <td>NaN</td>\n",
       "      <td>NaN</td>\n",
       "      <td>NaN</td>\n",
       "      <td>LEAD DATA SCIENTIST</td>\n",
       "      <td>NaN</td>\n",
       "      <td>The candidates role would be To primarily lead...</td>\n",
       "    </tr>\n",
       "  </tbody>\n",
       "</table>\n",
       "<p>3 rows × 40 columns</p>\n",
       "</div>"
      ],
      "text/plain": [
       "   Unnamed: 0   S.No       Job Class  \\\n",
       "0           0  12382    Data Analyst   \n",
       "1           1  12389  Data Scientist   \n",
       "2           2  12390  Data Scientist   \n",
       "\n",
       "                                    Job Title  Min_Salary_USD  Max_Salary_USD  \\\n",
       "0  Architect Data Analysis of Research Domain           52925           93000   \n",
       "1          Assistant Manager - Data Scientist           48000           85000   \n",
       "2                         Lead Data Scientist           58000          103000   \n",
       "\n",
       "   Average Salary_USD  Range_salary_USD  \\\n",
       "0             72962.5             40075   \n",
       "1             66500.0             37000   \n",
       "2             80500.0             45000   \n",
       "\n",
       "                                     Job Description  Rating  ... Easy Apply  \\\n",
       "0  Th candidate should be  able to perform the fo...     3.5  ...        0.0   \n",
       "1  The candidate should be having the below menti...     3.5  ...        NaN   \n",
       "2  The candidates  role would be:\\nTo primarily l...     4.5  ...        NaN   \n",
       "\n",
       "  Location_City  Location_State  Headquarters_City  Headquarters_State  LAT  \\\n",
       "0           NaN             NaN                NaN                 NaN  NaN   \n",
       "1           NaN             NaN                NaN                 NaN  NaN   \n",
       "2           NaN             NaN                NaN                 NaN  NaN   \n",
       "\n",
       "   LON1                             Clean Job Title skillsset  \\\n",
       "0   NaN  ARCHITECT DATA ANALYSIS OF RESEARCH DOMAIN       NaN   \n",
       "1   NaN            ASSISTANT MANAGER DATA SCIENTIST       NaN   \n",
       "2   NaN                         LEAD DATA SCIENTIST       NaN   \n",
       "\n",
       "                               Clean Job Description  \n",
       "0  Th candidate should be able to perform the fol...  \n",
       "1  The candidate should be having the below menti...  \n",
       "2  The candidates role would be To primarily lead...  \n",
       "\n",
       "[3 rows x 40 columns]"
      ]
     },
     "execution_count": 3,
     "metadata": {},
     "output_type": "execute_result"
    }
   ],
   "source": [
    "jobdescription['Clean Job Description']= jobdescription['Job Description'].replace('[^A-Za-z0-9]+', ' ',regex=True)\n",
    "\n",
    "jobdescription.head(3)"
   ]
  },
  {
   "cell_type": "code",
   "execution_count": 4,
   "metadata": {},
   "outputs": [
    {
     "name": "stdout",
     "output_type": "stream",
     "text": [
      "Requirement already satisfied: nltk in c:\\users\\rupal\\anaconda3\\lib\\site-packages (3.5)\n",
      "Requirement already satisfied: tqdm in c:\\users\\rupal\\anaconda3\\lib\\site-packages (from nltk) (4.47.0)\n",
      "Requirement already satisfied: joblib in c:\\users\\rupal\\anaconda3\\lib\\site-packages (from nltk) (0.16.0)\n",
      "Requirement already satisfied: click in c:\\users\\rupal\\anaconda3\\lib\\site-packages (from nltk) (7.1.2)\n",
      "Requirement already satisfied: regex in c:\\users\\rupal\\anaconda3\\lib\\site-packages (from nltk) (2020.6.8)\n"
     ]
    }
   ],
   "source": [
    "!pip install nltk"
   ]
  },
  {
   "cell_type": "code",
   "execution_count": 5,
   "metadata": {},
   "outputs": [],
   "source": [
    "import string\n",
    "import nltk\n",
    "from nltk import word_tokenize, FreqDist\n",
    "from nltk.corpus import stopwords"
   ]
  },
  {
   "cell_type": "code",
   "execution_count": 6,
   "metadata": {},
   "outputs": [
    {
     "name": "stdout",
     "output_type": "stream",
     "text": [
      "showing info https://raw.githubusercontent.com/nltk/nltk_data/gh-pages/index.xml\n"
     ]
    },
    {
     "data": {
      "text/plain": [
       "True"
      ]
     },
     "execution_count": 6,
     "metadata": {},
     "output_type": "execute_result"
    }
   ],
   "source": [
    "nltk.download()"
   ]
  },
  {
   "cell_type": "code",
   "execution_count": 7,
   "metadata": {},
   "outputs": [],
   "source": [
    "newstopwords=stopwords.words(\"English\") + ['play','will','within','one','use','make','way','across','need','care','help','high','must','area','state','people','member','may','well','using','etc','make','year','office',\n",
    "                                           'us','change','part','access','time','able','issue','task','duties','day','field','meet','hand','first','ensure','best','sexual','gender','global','world','race','regard','client',\n",
    "                                           'http','re','ad','self','highly','key','source','make','come','full','result','inc','build','end','color','years','work','role','family','date','team','equal','com',\n",
    "                                           'u','law','www','com','please','life','also','level','new','non','system','service','sex','age','email','job','pay','duty','take','ha','a','b','d','e','f','g','strong',\n",
    "                                          'status','offer','good','term','matter','open','get','person','ideal','place','title','go','inc','see','hour','tx','ca','skill','strong','month','pay',\n",
    "                                          'degree','design','tool','build','client','drive','large','create','plan','user','lead','value','apply','review','learn','fast','assist','detail','manage','impact','type',\n",
    "                                           'make','origin','make','policy','need','join','goal','expert','group','hire','need','method','action','focus','basis','cross','make','based','degree','skill','year','origin','austin',\n",
    "                                           'need','pace','basic','right','wide','others','multi','pay','want','use','long','give','small','hire']\n",
    "                                          "
   ]
  },
  {
   "cell_type": "code",
   "execution_count": 8,
   "metadata": {},
   "outputs": [],
   "source": [
    "WNlemma = nltk.WordNetLemmatizer()\n",
    "\n",
    "\n",
    "def pre_process(text): \n",
    "    tokens = nltk.word_tokenize(text)\n",
    "    tokens=[t.lower() for t in tokens]\n",
    "    tokens=[t for t in tokens if t not in string.punctuation]\n",
    "    tokens=[ t for t in tokens if not t.isnumeric()]\n",
    "    tokens=[WNlemma.lemmatize(t) for t in tokens]\n",
    "    tokens=[word for word in tokens if word not in newstopwords]\n",
    "    text_after_process=' '.join(tokens)\n",
    "    return(text_after_process)\n",
    "\n",
    "#Apply the function on each document\n",
    "jobdescription['Clean Job Description'] = jobdescription['Clean Job Description'].apply(pre_process)"
   ]
  },
  {
   "cell_type": "code",
   "execution_count": 9,
   "metadata": {},
   "outputs": [
    {
     "data": {
      "text/plain": [
       "0    th candidate perform following handling analyt...\n",
       "1    candidate mentioned skillset experienced machi...\n",
       "2    candidate would primarily agile research scien...\n",
       "Name: Clean Job Description, dtype: object"
      ]
     },
     "execution_count": 9,
     "metadata": {},
     "output_type": "execute_result"
    }
   ],
   "source": [
    "jobdescription['Clean Job Description'][:10]"
   ]
  },
  {
   "cell_type": "code",
   "execution_count": 10,
   "metadata": {},
   "outputs": [
    {
     "data": {
      "text/plain": [
       "0    549\n",
       "1    271\n",
       "2    474\n",
       "Name: Clean Job Description, dtype: int64"
      ]
     },
     "execution_count": 10,
     "metadata": {},
     "output_type": "execute_result"
    }
   ],
   "source": [
    "length=jobdescription['Clean Job Description'].apply(len)\n",
    "length[:100]"
   ]
  },
  {
   "cell_type": "code",
   "execution_count": 11,
   "metadata": {},
   "outputs": [],
   "source": [
    "jobdescription['Clean Job Description']=jobdescription['Clean Job Description'].replace(['pl sql','masters','git github','github','microsoft word','ms word','powerpoint','power point','data governance','statistics','mathematics','computer science','data analyst','big data','modelling','microsoft office','ms office','java script','javascript','deep learning','tableau','engineering','datasets','data sets','dataset','data set','dashboards','dashboard','databases','data base',' sa ','regression','clustering','artificial intelligence',' ms ','mongodb','tensorflow','rapidminer','rainstor','elasticsearch','elastic search','airflow','kubernetes','tensor flow','air flow','power bi','scrum master','sisense','data studio','grafana','mapreduce','couchbase','blockchain','spotfire','chartio','metabase','cassandra','periscope data','dynamodb','firebase','big query',' teradata ','ad hoc','machine learning',' natural language processing ','decision tree','neural network','graduate','undergraduate','bachelor','analtyical','analytics','analysis','classification','business analyst','business intelligence'],['PLSQL','master','GIT','GIT','msword','msword','PPT','PPT','DAG','stats','math','cse','anali','bdata','model','mso','mso','jas','jas','deepl','tabl','engg','dset','dset','dset','dset','dashb','dashb','db','db',' sas ','resn','cstg','ai','master','mgd','tefw','rpdm','rst','elsch','elsch','afw','kbnts','tefw','afw','bi','scr','sss','dtd','gfn','mrc','ccb','bcn','spfr','chto','mtbse','ssdr','prsc','dymd','fibs','bqry',' tdata ','adhoc','maclrg',' nlp ','dctre','nurnet','grad','undergrad','bach','ana','anacs','anasis','clas','busst','busnc'],regex=True)"
   ]
  },
  {
   "cell_type": "code",
   "execution_count": 12,
   "metadata": {},
   "outputs": [
    {
     "data": {
      "text/plain": [
       "0    518\n",
       "1    245\n",
       "2    454\n",
       "Name: Clean Job Description, dtype: int64"
      ]
     },
     "execution_count": 12,
     "metadata": {},
     "output_type": "execute_result"
    }
   ],
   "source": [
    "length1=jobdescription['Clean Job Description'].apply(len)\n",
    "length1[:100]"
   ]
  },
  {
   "cell_type": "code",
   "execution_count": 13,
   "metadata": {},
   "outputs": [],
   "source": [
    "def tokenization(text):\n",
    "    tokens=nltk.word_tokenize(text)\n",
    "    tokens=[t for t in tokens if len(t)<7]\n",
    "    tokens=set(tokens)\n",
    "    tokens=' '.join(tokens)\n",
    "    return(tokens)\n",
    "\n",
    "jobdescription['Clean Job Description'] = jobdescription['Clean Job Description'].apply(tokenization)"
   ]
  },
  {
   "cell_type": "code",
   "execution_count": 14,
   "metadata": {},
   "outputs": [],
   "source": [
    "jobdescription['Clean Job Description']=jobdescription['Clean Job Description'].replace(['DAG',' stats ',' math ',' cse ',' anali ',' bdata ',' model ',' mso ',' jas ',' deepl ',' tabl ',' engg ',' dset ',' dashb ',' db ',' teg ',' resn ',' cstg ',' mgd ',' tefw ',' rpdm ',' rst ',' elsch ',' afw ',' ai ',' kbnts ',' bi ',' scr ',' sss ',' dtd ',' gfn ',' mrc ',' ccb ',' bcn ',' spfr ',' chto ',' mtbse ',' ssdr ','data',' prsc ',' dymd ',' fibs ',' big ',' set ',' bqry ',' tdata ','adhoc','maclrg',' nlp ','dctre','nurnet',' grad ',' undergrad ',' bach ',' ana ',' anacs ',' anasis ',' clas ',' busst ',' busnc '],['datagovernance',' statistics ',' mathematics ',' computerscience ',' analyst ',' bigdata ',' modelling ',' msoffice ',' javascript ',' deeplearning ',' tableau ',' engineering ',' dataset ',' dashborads ',' databases ',' text mining ',' regression ',' clustering ',' mongodb ',' tensorflow ',' rapidminer ',' rainstor ',' elasticsearch ',' airflow ',' artificialintelligence ',' kubernetes ',' powerbi ',' scrum',' sisense ',' datastudio ',' grafana ',' mapreduce ',' couchbase ',' blockchain ',' spotfire ',' chartio ',' metabase ',' cassandra ','',' periscopedata',' dynamodb ',' firebase ','','',' bigquery ',' teradata ','adhoc','machine learning','natural launguage processing','decision tree','neural network',' graduate ',' undergraduate ',' bachelor ',' analytical ',' analytics ',' analysis ',' classification ',' businessanalyst',' businessintelligence '],regex=True)"
   ]
  },
  {
   "cell_type": "code",
   "execution_count": 15,
   "metadata": {},
   "outputs": [
    {
     "data": {
      "text/plain": [
       "0    case deeplearning etl powerbi social net sas d...\n",
       "1    image c cnn machine learning deeplearning deci...\n",
       "2    machine learning text mining scale would signa...\n",
       "Name: Clean Job Description, dtype: object"
      ]
     },
     "execution_count": 15,
     "metadata": {},
     "output_type": "execute_result"
    }
   ],
   "source": [
    "jobdescription['Clean Job Description'][:10]"
   ]
  },
  {
   "cell_type": "code",
   "execution_count": 16,
   "metadata": {},
   "outputs": [
    {
     "data": {
      "text/plain": [
       "0    150\n",
       "1     94\n",
       "2     59\n",
       "Name: Clean Job Description, dtype: int64"
      ]
     },
     "execution_count": 16,
     "metadata": {},
     "output_type": "execute_result"
    }
   ],
   "source": [
    "length2=jobdescription['Clean Job Description'].apply(len)\n",
    "length2[:100]"
   ]
  },
  {
   "cell_type": "code",
   "execution_count": 17,
   "metadata": {},
   "outputs": [],
   "source": [
    "jobdescription.to_excel('V3.0 Project OA Data_excel_Testingdata.xlsx')"
   ]
  },
  {
   "cell_type": "code",
   "execution_count": 18,
   "metadata": {},
   "outputs": [],
   "source": [
    "def tokenizations(text):\n",
    "    tokens=nltk.word_tokenize(text)\n",
    "    return(tokens)\n",
    "\n",
    "tok = jobdescription['Clean Job Description'] .apply(tokenizations)"
   ]
  },
  {
   "cell_type": "code",
   "execution_count": 19,
   "metadata": {},
   "outputs": [],
   "source": [
    "skill=['web','linux','java','c','r','python','sql','plsql','oracle','excel','sap','sas','cloud','plsql','postgresql','bigdata','hedis','hadoop','spark','teradata','pig','hive','deeplearning','kafta','hbase','splunk','presto','rapidminer','knime','hunk','beam','tensorflow','mongodb','aws','machinelaerning','mysql','etl','rainstor','airflow','kubernetes','docker','plotly','knime','splunk','elasticsearch','rainstor','ppt','msword',' r ','looker','powerbi','tableau','azure','nosql','git','javascript','artificialintelligence','scrum','spss','cassandra','orange','mapreduce','couchbase','ems','blockchain','orange','spotfire','chartio','cognos','metabase','sisense','qlik','redash','grafana','datastudio','orange','mode','periscopedata','pmp','api','dynamodb','oltp','olap','firebase','redis','sap','msoffice','bigquery','teradata','machine learning','decision tree','neural network','database','adhoc','dashboard','mining','deeplearning','nlp','modelling','regression','clustering','dataanalsyt','mathematics','engineering','statistics','phd','master','businessintelligence','classification','analysis','analytical','analytics','bachelor','graduate','undergraduate','businessanalyst','master','phd','mathematics','statistics','engineering','computerscience']"
   ]
  },
  {
   "cell_type": "code",
   "execution_count": 20,
   "metadata": {},
   "outputs": [],
   "source": [
    "def match(text):\n",
    "    tokens=[t for t in text if(t in skill)]\n",
    "    return(tokens)\n",
    "\n",
    "jobdescription['skills']=tok.apply(match)"
   ]
  },
  {
   "cell_type": "code",
   "execution_count": 21,
   "metadata": {},
   "outputs": [
    {
     "data": {
      "text/plain": [
       "0    [deeplearning, etl, powerbi, sas, r, regressio...\n",
       "1                     [c, deeplearning, python, linux]\n",
       "2                                             [mining]\n",
       "Name: skills, dtype: object"
      ]
     },
     "execution_count": 21,
     "metadata": {},
     "output_type": "execute_result"
    }
   ],
   "source": [
    "jobdescription['skills'][:50]"
   ]
  },
  {
   "cell_type": "code",
   "execution_count": 22,
   "metadata": {},
   "outputs": [],
   "source": [
    "jobdescription.to_excel('V3.0 Project OA Data_excel_Testingdata.xlsx')"
   ]
  },
  {
   "cell_type": "code",
   "execution_count": null,
   "metadata": {},
   "outputs": [],
   "source": []
  }
 ],
 "metadata": {
  "kernelspec": {
   "display_name": "Python 3",
   "language": "python",
   "name": "python3"
  },
  "language_info": {
   "codemirror_mode": {
    "name": "ipython",
    "version": 3
   },
   "file_extension": ".py",
   "mimetype": "text/x-python",
   "name": "python",
   "nbconvert_exporter": "python",
   "pygments_lexer": "ipython3",
   "version": "3.8.3"
  }
 },
 "nbformat": 4,
 "nbformat_minor": 4
}
