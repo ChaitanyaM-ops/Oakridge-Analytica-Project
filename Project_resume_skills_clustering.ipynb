{
 "cells": [
  {
   "cell_type": "code",
   "execution_count": 1,
   "metadata": {},
   "outputs": [],
   "source": [
    "import numpy as np \n",
    "import pandas as pd "
   ]
  },
  {
   "cell_type": "code",
   "execution_count": 2,
   "metadata": {},
   "outputs": [
    {
     "data": {
      "text/html": [
       "<div>\n",
       "<style scoped>\n",
       "    .dataframe tbody tr th:only-of-type {\n",
       "        vertical-align: middle;\n",
       "    }\n",
       "\n",
       "    .dataframe tbody tr th {\n",
       "        vertical-align: top;\n",
       "    }\n",
       "\n",
       "    .dataframe thead th {\n",
       "        text-align: right;\n",
       "    }\n",
       "</style>\n",
       "<table border=\"1\" class=\"dataframe\">\n",
       "  <thead>\n",
       "    <tr style=\"text-align: right;\">\n",
       "      <th></th>\n",
       "      <th>Unnamed: 0</th>\n",
       "      <th>Unnamed: 0.1</th>\n",
       "      <th>Unnamed: 0.1.1</th>\n",
       "      <th>ID</th>\n",
       "      <th>Job Class</th>\n",
       "      <th>Job Title</th>\n",
       "      <th>Salary Estimate</th>\n",
       "      <th>Job Description</th>\n",
       "      <th>Rating</th>\n",
       "      <th>Company Name</th>\n",
       "      <th>...</th>\n",
       "      <th>Founded</th>\n",
       "      <th>Type of ownership</th>\n",
       "      <th>Industry</th>\n",
       "      <th>Sector</th>\n",
       "      <th>Revenue</th>\n",
       "      <th>Competitors</th>\n",
       "      <th>Easy Apply</th>\n",
       "      <th>Clean Job Title</th>\n",
       "      <th>Clean Job Description</th>\n",
       "      <th>skills</th>\n",
       "    </tr>\n",
       "  </thead>\n",
       "  <tbody>\n",
       "    <tr>\n",
       "      <th>0</th>\n",
       "      <td>0</td>\n",
       "      <td>0</td>\n",
       "      <td>0</td>\n",
       "      <td>0</td>\n",
       "      <td>Data Analyst</td>\n",
       "      <td>Data Analyst, Center on Immigration and Justic...</td>\n",
       "      <td>$37K-$66K (Glassdoor est.)</td>\n",
       "      <td>Are you eager to roll up your sleeves and harn...</td>\n",
       "      <td>3.2</td>\n",
       "      <td>Vera Institute of Justice\\n3.2</td>\n",
       "      <td>...</td>\n",
       "      <td>1961</td>\n",
       "      <td>Nonprofit Organization</td>\n",
       "      <td>Social Assistance</td>\n",
       "      <td>Non-Profit</td>\n",
       "      <td>$100 to $500 million (USD)</td>\n",
       "      <td>-1</td>\n",
       "      <td>1</td>\n",
       "      <td>DATA ANALYST CENTER IMMIGRATION JUSTICE CIJ</td>\n",
       "      <td>taking party call record set impede real eager...</td>\n",
       "      <td>['sql', 'aws', 'python', 'r', 'analysis']</td>\n",
       "    </tr>\n",
       "    <tr>\n",
       "      <th>1</th>\n",
       "      <td>1</td>\n",
       "      <td>1</td>\n",
       "      <td>1</td>\n",
       "      <td>1</td>\n",
       "      <td>Data Analyst</td>\n",
       "      <td>Quality Data Analyst</td>\n",
       "      <td>$37K-$66K (Glassdoor est.)</td>\n",
       "      <td>Overview\\n\\nProvides analytical and technical ...</td>\n",
       "      <td>3.8</td>\n",
       "      <td>Visiting Nurse Service of New York\\n3.8</td>\n",
       "      <td>...</td>\n",
       "      <td>1893</td>\n",
       "      <td>Nonprofit Organization</td>\n",
       "      <td>Health Care Services &amp; Hospitals</td>\n",
       "      <td>Health Care</td>\n",
       "      <td>$2 to $5 billion (USD)</td>\n",
       "      <td>-1</td>\n",
       "      <td>-1</td>\n",
       "      <td>QUALITY DATA ANALYST</td>\n",
       "      <td>train trend PLSQL topic dashborads computersci...</td>\n",
       "      <td>['computerscience', 'master', 'analytics', 'he...</td>\n",
       "    </tr>\n",
       "    <tr>\n",
       "      <th>2</th>\n",
       "      <td>2</td>\n",
       "      <td>2</td>\n",
       "      <td>2</td>\n",
       "      <td>2</td>\n",
       "      <td>Data Analyst</td>\n",
       "      <td>Senior Data Analyst, Insights &amp; Analytics Team...</td>\n",
       "      <td>$37K-$66K (Glassdoor est.)</td>\n",
       "      <td>We’re looking for a Senior Data Analyst who ha...</td>\n",
       "      <td>3.4</td>\n",
       "      <td>Squarespace\\n3.4</td>\n",
       "      <td>...</td>\n",
       "      <td>2003</td>\n",
       "      <td>Company - Private</td>\n",
       "      <td>Internet</td>\n",
       "      <td>Information Technology</td>\n",
       "      <td>Unknown / Non-Applicable</td>\n",
       "      <td>GoDaddy</td>\n",
       "      <td>-1</td>\n",
       "      <td>SENIOR DATA ANALYST INSIGHTS GAME TEAM CUSTOME...</td>\n",
       "      <td>dset dublin iconic dashborads master acting li...</td>\n",
       "      <td>['master', 'sql', 'engineering', 'phd', 'table...</td>\n",
       "    </tr>\n",
       "  </tbody>\n",
       "</table>\n",
       "<p>3 rows × 23 columns</p>\n",
       "</div>"
      ],
      "text/plain": [
       "   Unnamed: 0  Unnamed: 0.1  Unnamed: 0.1.1  ID     Job Class  \\\n",
       "0           0             0               0   0  Data Analyst   \n",
       "1           1             1               1   1  Data Analyst   \n",
       "2           2             2               2   2  Data Analyst   \n",
       "\n",
       "                                           Job Title  \\\n",
       "0  Data Analyst, Center on Immigration and Justic...   \n",
       "1                               Quality Data Analyst   \n",
       "2  Senior Data Analyst, Insights & Analytics Team...   \n",
       "\n",
       "              Salary Estimate  \\\n",
       "0  $37K-$66K (Glassdoor est.)   \n",
       "1  $37K-$66K (Glassdoor est.)   \n",
       "2  $37K-$66K (Glassdoor est.)   \n",
       "\n",
       "                                     Job Description  Rating  \\\n",
       "0  Are you eager to roll up your sleeves and harn...     3.2   \n",
       "1  Overview\\n\\nProvides analytical and technical ...     3.8   \n",
       "2  We’re looking for a Senior Data Analyst who ha...     3.4   \n",
       "\n",
       "                              Company Name  ... Founded  \\\n",
       "0           Vera Institute of Justice\\n3.2  ...    1961   \n",
       "1  Visiting Nurse Service of New York\\n3.8  ...    1893   \n",
       "2                         Squarespace\\n3.4  ...    2003   \n",
       "\n",
       "        Type of ownership                          Industry  \\\n",
       "0  Nonprofit Organization                 Social Assistance   \n",
       "1  Nonprofit Organization  Health Care Services & Hospitals   \n",
       "2       Company - Private                          Internet   \n",
       "\n",
       "                   Sector                     Revenue Competitors Easy Apply  \\\n",
       "0              Non-Profit  $100 to $500 million (USD)          -1          1   \n",
       "1             Health Care      $2 to $5 billion (USD)          -1         -1   \n",
       "2  Information Technology    Unknown / Non-Applicable     GoDaddy         -1   \n",
       "\n",
       "                                     Clean Job Title  \\\n",
       "0        DATA ANALYST CENTER IMMIGRATION JUSTICE CIJ   \n",
       "1                               QUALITY DATA ANALYST   \n",
       "2  SENIOR DATA ANALYST INSIGHTS GAME TEAM CUSTOME...   \n",
       "\n",
       "                               Clean Job Description  \\\n",
       "0  taking party call record set impede real eager...   \n",
       "1  train trend PLSQL topic dashborads computersci...   \n",
       "2  dset dublin iconic dashborads master acting li...   \n",
       "\n",
       "                                              skills  \n",
       "0          ['sql', 'aws', 'python', 'r', 'analysis']  \n",
       "1  ['computerscience', 'master', 'analytics', 'he...  \n",
       "2  ['master', 'sql', 'engineering', 'phd', 'table...  \n",
       "\n",
       "[3 rows x 23 columns]"
      ]
     },
     "execution_count": 2,
     "metadata": {},
     "output_type": "execute_result"
    }
   ],
   "source": [
    "jobdescription = pd.read_excel('CompiledAnalyticsData_excel.xlsx',index=True)\n",
    "\n",
    "jobdescription.head(3)"
   ]
  },
  {
   "cell_type": "code",
   "execution_count": 3,
   "metadata": {},
   "outputs": [
    {
     "data": {
      "text/html": [
       "<div>\n",
       "<style scoped>\n",
       "    .dataframe tbody tr th:only-of-type {\n",
       "        vertical-align: middle;\n",
       "    }\n",
       "\n",
       "    .dataframe tbody tr th {\n",
       "        vertical-align: top;\n",
       "    }\n",
       "\n",
       "    .dataframe thead th {\n",
       "        text-align: right;\n",
       "    }\n",
       "</style>\n",
       "<table border=\"1\" class=\"dataframe\">\n",
       "  <thead>\n",
       "    <tr style=\"text-align: right;\">\n",
       "      <th></th>\n",
       "      <th>Unnamed: 0</th>\n",
       "      <th>Unnamed: 0.1</th>\n",
       "      <th>Unnamed: 0.1.1</th>\n",
       "      <th>ID</th>\n",
       "      <th>Job Class</th>\n",
       "      <th>Job Title</th>\n",
       "      <th>Salary Estimate</th>\n",
       "      <th>Job Description</th>\n",
       "      <th>Rating</th>\n",
       "      <th>Company Name</th>\n",
       "      <th>...</th>\n",
       "      <th>Founded</th>\n",
       "      <th>Type of ownership</th>\n",
       "      <th>Industry</th>\n",
       "      <th>Sector</th>\n",
       "      <th>Revenue</th>\n",
       "      <th>Competitors</th>\n",
       "      <th>Easy Apply</th>\n",
       "      <th>Clean Job Title</th>\n",
       "      <th>Clean Job Description</th>\n",
       "      <th>skills</th>\n",
       "    </tr>\n",
       "  </thead>\n",
       "  <tbody>\n",
       "    <tr>\n",
       "      <th>0</th>\n",
       "      <td>0</td>\n",
       "      <td>0</td>\n",
       "      <td>0</td>\n",
       "      <td>0</td>\n",
       "      <td>Data Analyst</td>\n",
       "      <td>Data Analyst, Center on Immigration and Justic...</td>\n",
       "      <td>$37K-$66K (Glassdoor est.)</td>\n",
       "      <td>Are you eager to roll up your sleeves and harn...</td>\n",
       "      <td>3.2</td>\n",
       "      <td>Vera Institute of Justice\\n3.2</td>\n",
       "      <td>...</td>\n",
       "      <td>1961</td>\n",
       "      <td>Nonprofit Organization</td>\n",
       "      <td>Social Assistance</td>\n",
       "      <td>Non-Profit</td>\n",
       "      <td>$100 to $500 million (USD)</td>\n",
       "      <td>-1</td>\n",
       "      <td>1</td>\n",
       "      <td>DATA ANALYST CENTER IMMIGRATION JUSTICE CIJ</td>\n",
       "      <td>Are you eager to roll up your sleeves and harn...</td>\n",
       "      <td>['sql', 'aws', 'python', 'r', 'analysis']</td>\n",
       "    </tr>\n",
       "    <tr>\n",
       "      <th>1</th>\n",
       "      <td>1</td>\n",
       "      <td>1</td>\n",
       "      <td>1</td>\n",
       "      <td>1</td>\n",
       "      <td>Data Analyst</td>\n",
       "      <td>Quality Data Analyst</td>\n",
       "      <td>$37K-$66K (Glassdoor est.)</td>\n",
       "      <td>Overview\\n\\nProvides analytical and technical ...</td>\n",
       "      <td>3.8</td>\n",
       "      <td>Visiting Nurse Service of New York\\n3.8</td>\n",
       "      <td>...</td>\n",
       "      <td>1893</td>\n",
       "      <td>Nonprofit Organization</td>\n",
       "      <td>Health Care Services &amp; Hospitals</td>\n",
       "      <td>Health Care</td>\n",
       "      <td>$2 to $5 billion (USD)</td>\n",
       "      <td>-1</td>\n",
       "      <td>-1</td>\n",
       "      <td>QUALITY DATA ANALYST</td>\n",
       "      <td>Overview Provides analytical and technical sup...</td>\n",
       "      <td>['computerscience', 'master', 'analytics', 'he...</td>\n",
       "    </tr>\n",
       "    <tr>\n",
       "      <th>2</th>\n",
       "      <td>2</td>\n",
       "      <td>2</td>\n",
       "      <td>2</td>\n",
       "      <td>2</td>\n",
       "      <td>Data Analyst</td>\n",
       "      <td>Senior Data Analyst, Insights &amp; Analytics Team...</td>\n",
       "      <td>$37K-$66K (Glassdoor est.)</td>\n",
       "      <td>We’re looking for a Senior Data Analyst who ha...</td>\n",
       "      <td>3.4</td>\n",
       "      <td>Squarespace\\n3.4</td>\n",
       "      <td>...</td>\n",
       "      <td>2003</td>\n",
       "      <td>Company - Private</td>\n",
       "      <td>Internet</td>\n",
       "      <td>Information Technology</td>\n",
       "      <td>Unknown / Non-Applicable</td>\n",
       "      <td>GoDaddy</td>\n",
       "      <td>-1</td>\n",
       "      <td>SENIOR DATA ANALYST INSIGHTS GAME TEAM CUSTOME...</td>\n",
       "      <td>We re looking for a Senior Data Analyst who ha...</td>\n",
       "      <td>['master', 'sql', 'engineering', 'phd', 'table...</td>\n",
       "    </tr>\n",
       "  </tbody>\n",
       "</table>\n",
       "<p>3 rows × 23 columns</p>\n",
       "</div>"
      ],
      "text/plain": [
       "   Unnamed: 0  Unnamed: 0.1  Unnamed: 0.1.1  ID     Job Class  \\\n",
       "0           0             0               0   0  Data Analyst   \n",
       "1           1             1               1   1  Data Analyst   \n",
       "2           2             2               2   2  Data Analyst   \n",
       "\n",
       "                                           Job Title  \\\n",
       "0  Data Analyst, Center on Immigration and Justic...   \n",
       "1                               Quality Data Analyst   \n",
       "2  Senior Data Analyst, Insights & Analytics Team...   \n",
       "\n",
       "              Salary Estimate  \\\n",
       "0  $37K-$66K (Glassdoor est.)   \n",
       "1  $37K-$66K (Glassdoor est.)   \n",
       "2  $37K-$66K (Glassdoor est.)   \n",
       "\n",
       "                                     Job Description  Rating  \\\n",
       "0  Are you eager to roll up your sleeves and harn...     3.2   \n",
       "1  Overview\\n\\nProvides analytical and technical ...     3.8   \n",
       "2  We’re looking for a Senior Data Analyst who ha...     3.4   \n",
       "\n",
       "                              Company Name  ... Founded  \\\n",
       "0           Vera Institute of Justice\\n3.2  ...    1961   \n",
       "1  Visiting Nurse Service of New York\\n3.8  ...    1893   \n",
       "2                         Squarespace\\n3.4  ...    2003   \n",
       "\n",
       "        Type of ownership                          Industry  \\\n",
       "0  Nonprofit Organization                 Social Assistance   \n",
       "1  Nonprofit Organization  Health Care Services & Hospitals   \n",
       "2       Company - Private                          Internet   \n",
       "\n",
       "                   Sector                     Revenue Competitors Easy Apply  \\\n",
       "0              Non-Profit  $100 to $500 million (USD)          -1          1   \n",
       "1             Health Care      $2 to $5 billion (USD)          -1         -1   \n",
       "2  Information Technology    Unknown / Non-Applicable     GoDaddy         -1   \n",
       "\n",
       "                                     Clean Job Title  \\\n",
       "0        DATA ANALYST CENTER IMMIGRATION JUSTICE CIJ   \n",
       "1                               QUALITY DATA ANALYST   \n",
       "2  SENIOR DATA ANALYST INSIGHTS GAME TEAM CUSTOME...   \n",
       "\n",
       "                               Clean Job Description  \\\n",
       "0  Are you eager to roll up your sleeves and harn...   \n",
       "1  Overview Provides analytical and technical sup...   \n",
       "2  We re looking for a Senior Data Analyst who ha...   \n",
       "\n",
       "                                              skills  \n",
       "0          ['sql', 'aws', 'python', 'r', 'analysis']  \n",
       "1  ['computerscience', 'master', 'analytics', 'he...  \n",
       "2  ['master', 'sql', 'engineering', 'phd', 'table...  \n",
       "\n",
       "[3 rows x 23 columns]"
      ]
     },
     "execution_count": 3,
     "metadata": {},
     "output_type": "execute_result"
    }
   ],
   "source": [
    "jobdescription['Clean Job Description']= jobdescription['Job Description'].replace('[^A-Za-z0-9]+',' ',regex=True)\n",
    "\n",
    "jobdescription.head(3)"
   ]
  },
  {
   "cell_type": "code",
   "execution_count": 4,
   "metadata": {},
   "outputs": [
    {
     "name": "stdout",
     "output_type": "stream",
     "text": [
      "Requirement already satisfied: nltk in c:\\users\\rupal\\anaconda3\\lib\\site-packages (3.5)\n",
      "Requirement already satisfied: joblib in c:\\users\\rupal\\anaconda3\\lib\\site-packages (from nltk) (0.16.0)\n",
      "Requirement already satisfied: click in c:\\users\\rupal\\anaconda3\\lib\\site-packages (from nltk) (7.1.2)\n",
      "Requirement already satisfied: regex in c:\\users\\rupal\\anaconda3\\lib\\site-packages (from nltk) (2020.6.8)\n",
      "Requirement already satisfied: tqdm in c:\\users\\rupal\\anaconda3\\lib\\site-packages (from nltk) (4.47.0)\n"
     ]
    }
   ],
   "source": [
    "!pip install nltk"
   ]
  },
  {
   "cell_type": "code",
   "execution_count": 5,
   "metadata": {},
   "outputs": [],
   "source": [
    "\n",
    "import string\n",
    "import nltk\n",
    "from nltk import word_tokenize, FreqDist\n",
    "from nltk.corpus import stopwords"
   ]
  },
  {
   "cell_type": "code",
   "execution_count": 6,
   "metadata": {},
   "outputs": [
    {
     "name": "stdout",
     "output_type": "stream",
     "text": [
      "showing info https://raw.githubusercontent.com/nltk/nltk_data/gh-pages/index.xml\n"
     ]
    },
    {
     "data": {
      "text/plain": [
       "True"
      ]
     },
     "execution_count": 6,
     "metadata": {},
     "output_type": "execute_result"
    }
   ],
   "source": [
    "nltk.download()"
   ]
  },
  {
   "cell_type": "code",
   "execution_count": 7,
   "metadata": {},
   "outputs": [],
   "source": [
    "newstopwords=stopwords.words(\"English\") + ['play','will','within','one','use','make','way','across','need','care','help','high','must','area','state','people','member','may','well','using','etc','make','year','office',\n",
    "                                           'us','change','part','access','time','able','issue','task','duties','day','field','meet','hand','first','ensure','best','sexual','gender','global','world','race','regard','client',\n",
    "                                           'http','re','ad','self','highly','key','source','make','come','full','result','inc','build','end','color','years','work','role','family','date','team','equal','com',\n",
    "                                           'u','law','www','com','please','life','also','level','new','non','system','service','sex','age','email','job','pay','duty','take','ha','a','b','d','e','f','g','strong',\n",
    "                                          'status','offer','good','term','matter','open','get','person','ideal','place','title','go','inc','see','hour','tx','ca','skill','strong','month','pay',\n",
    "                                          'degree','design','tool','build','client','drive','large','create','plan','user','lead','value','apply','review','learn','fast','assist','detail','manage','impact','type',\n",
    "                                           'make','origin','make','policy','need','join','goal','expert','group','hire','need','method','action','focus','basis','cross','make','based','degree','skill','year','origin','austin',\n",
    "                                           'need','pace','basic','right','wide','others','multi','pay','want','use','long','give','small','hire']\n",
    "                                          "
   ]
  },
  {
   "cell_type": "code",
   "execution_count": 8,
   "metadata": {},
   "outputs": [],
   "source": [
    "WNlemma = nltk.WordNetLemmatizer()\n",
    "\n",
    "\n",
    "def pre_process(text): \n",
    "    tokens = nltk.word_tokenize(text)\n",
    "    tokens=[t.lower() for t in tokens]\n",
    "    tokens=[t for t in tokens if t not in string.punctuation]\n",
    "    tokens=[ t for t in tokens if (not t.isnumeric() or len(t)<3)]\n",
    "    tokens=[WNlemma.lemmatize(t) for t in tokens]\n",
    "    tokens=[word for word in tokens if word not in newstopwords]\n",
    "    text_after_process=' '.join(tokens)\n",
    "    return(text_after_process)\n",
    "\n",
    "#Apply the function on each document\n",
    "jobdescription['Clean Job Description'] = jobdescription['Clean Job Description'].apply(pre_process)"
   ]
  },
  {
   "cell_type": "code",
   "execution_count": 9,
   "metadata": {},
   "outputs": [],
   "source": [
    "jobdescription['Clean Job Description']=jobdescription['Clean Job Description'].replace(['pl sql','masters','git github','github','microsoft word','ms word','powerpoint','power point','data governance','statistics','mathematics','computer science','big data','modelling','microsoft office','ms office','java script','javascript','deep learning','tableau','datasets','data sets','dataset','data set','dashboards','dashboard','databases','data base',' sa ','regression','clustering','artificial intelligence',' ms ','mongodb','tensorflow','rapidminer','rainstor','elasticsearch','elastic search','airflow','kubernetes','tensor flow','air flow','power bi','scrum master','sisense','data studio','grafana','mapreduce','couchbase','blockchain','spotfire','chartio','metabase','cassandra','periscope data','dynamodb','firebase','big query',' teradata ','ad hoc','machine learning',' natural language processing ','decision tree','neural network','classification'],['PLSQL','master','GIT','GIT','msword','msword','PPT','PPT','DAG','stats','math','cse','bdata','model','mso','mso','jas','jas','deepl','tabl','dset','dset','dset','dset','dashb','dashb','db','db',' sas ','resn','cstg','ai','master','mgd','tefw','rpdm','rst','elsch','elsch','afw','kbnts','tefw','afw','bi','scr','sss','dtd','gfn','mrc','ccb','bcn','spfr','chto','mtbse','ssdr','prsc','dymd','fibs','bqry',' tdata ','adhoc','maclrg',' nlp ','dctre','nurnet','clas'],regex=True)"
   ]
  },
  {
   "cell_type": "code",
   "execution_count": 10,
   "metadata": {},
   "outputs": [],
   "source": [
    "def tokenization(text):\n",
    "    tokens=nltk.word_tokenize(text)\n",
    "    tokens=[t for t in tokens if len(t)<7]\n",
    "    tokens=set(tokens)\n",
    "    tokens=' '.join(tokens)\n",
    "    return(tokens)\n",
    "\n",
    "jobdescription['Clean Job Description'] = jobdescription['Clean Job Description'].apply(tokenization)"
   ]
  },
  {
   "cell_type": "code",
   "execution_count": 11,
   "metadata": {},
   "outputs": [],
   "source": [
    "jobdescription['Clean Job Description']=jobdescription['Clean Job Description'].replace(['DAG',' stats ',' math ',' cse ',' bdata ',' model ',' mso ',' jas ',' deepl ',' tabl ',' dset ',' dashb ',' db ',' teg ',' resn ',' cstg ',' mgd ',' tefw ',' rpdm ',' rst ',' elsch ',' afw ',' ai ',' kbnts ',' bi ',' scr ',' sss ',' dtd ',' gfn ',' mrc ',' ccb ',' bcn ',' spfr ',' chto ',' mtbse ',' ssdr ','data',' prsc ',' dymd ',' fibs ',' big ',' set ',' bqry ',' tdata ','adhoc','maclrg',' nlp ','dctre','nurnet',' clas '],['datagovernance',' statistics ',' mathematics ',' computerscience ',' bigdata ',' modelling ',' msoffice ',' javascript ',' deeplearning ',' tableau ',' dataset ',' dashborads ',' databases ',' text mining ',' regression ',' clustering ',' mongodb ',' tensorflow ',' rapidminer ',' rainstor ',' elasticsearch ',' airflow ',' artificialintelligence ',' kubernetes ',' powerbi ',' scrum',' sisense ',' datastudio ',' grafana ',' mapreduce ',' couchbase ',' blockchain ',' spotfire ',' chartio ',' metabase ',' cassandra ','',' periscopedata',' dynamodb ',' firebase ','','',' bigquery ',' teradata ','adhoc','machine learning','natural launguage processing','decision tree','neural network',' classification '],regex=True)"
   ]
  },
  {
   "cell_type": "code",
   "execution_count": 12,
   "metadata": {},
   "outputs": [],
   "source": [
    "skill=['web','linux','java','c','r','python','sql','plsql','oracle','excel','sap','sas','cloud','plsql','postgresql','bigdata','hedis','hadoop','spark','teradata','pig','hive','deeplearning','kafta','hbase','splunk','presto','rapidminer','knime','hunk','beam','tensorflow','mongodb','aws','machinelaerning','mysql','etl','rainstor','airflow','kubernetes','docker','plotly','knime','splunk','elasticsearch','rainstor','ppt','msword',' r ','looker','powerbi','tableau','azure','nosql','git','javascript','artificialintelligence','scrum','spss','cassandra','orange','mapreduce','couchbase','ems','blockchain','orange','spotfire','chartio','cognos','metabase','sisense','qlik','redash','grafana','datastudio','orange','mode','periscopedata','pmp','api','dynamodb','oltp','olap','firebase','redis','sap','msoffice','bigquery','teradata','machine learning','decision tree','neural network','adhoc','dashboard','mining','deeplearning','nlp','modelling','regression','clustering','mathematics','statistics','businessintelligence','classification','modelling']"
   ]
  },
  {
   "cell_type": "code",
   "execution_count": 13,
   "metadata": {},
   "outputs": [],
   "source": [
    "def skills(text):\n",
    "    tokens=nltk.word_tokenize(text)\n",
    "    tokens=[t for t in tokens if(t in skill)]\n",
    "    tokens=' '.join(tokens)\n",
    "    return(tokens)\n",
    "\n",
    "jobdescription['Clean Job Description']=jobdescription['Clean Job Description'].apply(skills)"
   ]
  },
  {
   "cell_type": "code",
   "execution_count": 14,
   "metadata": {},
   "outputs": [],
   "source": [
    "\n",
    "import logging\n",
    "logging.basicConfig(format='%(asctime)s : %(levelname)s : %(message)s', level=logging.INFO)\n",
    "\n",
    "\n",
    "\n",
    "from sklearn.feature_extraction.text import TfidfVectorizer\n",
    "from sklearn.preprocessing import Normalizer\n",
    "from sklearn.decomposition import TruncatedSVD\n",
    "from sklearn.pipeline import make_pipeline"
   ]
  },
  {
   "cell_type": "code",
   "execution_count": 15,
   "metadata": {},
   "outputs": [
    {
     "data": {
      "text/plain": [
       "(12381, 51)"
      ]
     },
     "execution_count": 15,
     "metadata": {},
     "output_type": "execute_result"
    }
   ],
   "source": [
    "\n",
    "# Create tfidf matrix\n",
    "vectorizer = TfidfVectorizer(max_df=0.8, max_features=100,\n",
    "                             min_df=100,\n",
    "                             use_idf=True)\n",
    "\n",
    "X = vectorizer.fit_transform(jobdescription['Clean Job Description'])\n",
    "X.shape\n"
   ]
  },
  {
   "cell_type": "code",
   "execution_count": 16,
   "metadata": {},
   "outputs": [],
   "source": [
    "## Apply KMeans for clustering\n",
    "\n",
    "from sklearn.cluster import KMeans\n",
    "from sklearn import metrics\n"
   ]
  },
  {
   "cell_type": "code",
   "execution_count": null,
   "metadata": {},
   "outputs": [],
   "source": [
    "import matplotlib.pyplot as plt"
   ]
  },
  {
   "cell_type": "code",
   "execution_count": null,
   "metadata": {},
   "outputs": [],
   "source": [
    "# #‘k-means++’ : selects initial cluster centers for k-mean clustering in a smart way to speed up convergence.\n",
    "distortions = []\n",
    "K = range(1,55)\n",
    "for k in K:\n",
    "    kmeanModel = KMeans(n_clusters=k,max_iter=500).fit(X)\n",
    "    kmeanModel.fit(X)\n",
    "    distortions.append(kmeanModel.inertia_)"
   ]
  },
  {
   "cell_type": "code",
   "execution_count": null,
   "metadata": {},
   "outputs": [],
   "source": [
    "#plot the elbow\n",
    "plt.figure(figsize=(10,4))\n",
    "plt.plot(K, distortions, 'bx-')\n",
    "plt.xlabel('k')\n",
    "plt.ylabel('Distortion')\n",
    "plt.title('The Elbow Method showing the optimal k')\n",
    "plt.show()\n"
   ]
  },
  {
   "cell_type": "code",
   "execution_count": 17,
   "metadata": {},
   "outputs": [
    {
     "data": {
      "text/plain": [
       "KMeans(max_iter=500, n_clusters=40)"
      ]
     },
     "execution_count": 17,
     "metadata": {},
     "output_type": "execute_result"
    }
   ],
   "source": [
    "\n",
    "km1 = KMeans(n_clusters=40, init='k-means++', max_iter=500)\n",
    "km1.fit(X)\n"
   ]
  },
  {
   "cell_type": "code",
   "execution_count": 18,
   "metadata": {},
   "outputs": [
    {
     "name": "stdout",
     "output_type": "stream",
     "text": [
      "Coefficient for 40 clusters: 0.318\n"
     ]
    }
   ],
   "source": [
    "#metric evaluation\n",
    "\n",
    "print(\"Coefficient for 40 clusters: %0.3f\"\n",
    "      % metrics.silhouette_score(X, km1.labels_))"
   ]
  },
  {
   "cell_type": "code",
   "execution_count": 19,
   "metadata": {},
   "outputs": [
    {
     "data": {
      "text/plain": [
       "417.20411096676077"
      ]
     },
     "execution_count": 19,
     "metadata": {},
     "output_type": "execute_result"
    }
   ],
   "source": [
    "#Calinski-Harabasz Index\n",
    "\n",
    "y=X.toarray()\n",
    "metrics.calinski_harabasz_score(y, km1.labels_)"
   ]
  },
  {
   "cell_type": "code",
   "execution_count": 20,
   "metadata": {},
   "outputs": [
    {
     "data": {
      "text/plain": [
       "1.7744878776281865"
      ]
     },
     "execution_count": 20,
     "metadata": {},
     "output_type": "execute_result"
    }
   ],
   "source": [
    "#Davies-Bouldin Index\n",
    "\n",
    "from sklearn.metrics import davies_bouldin_score\n",
    "\n",
    "y=X.toarray()\n",
    "davies_bouldin_score(y, km1.labels_)"
   ]
  },
  {
   "cell_type": "code",
   "execution_count": 21,
   "metadata": {},
   "outputs": [
    {
     "name": "stdout",
     "output_type": "stream",
     "text": [
      "[ 0  1  2  3  4  5  6  7  8  9 10 11 12 13 14 15 16 17 18 19 20 21 22 23\n",
      " 24 25 26 27 28 29 30 31 32 33 34 35 36 37 38 39]\n",
      "[ 118  345 1918  658  153  183  220  281  321  218  206  327  170   51\n",
      "  162  206  317  327  280  342  320  309  304  224  285  348  303  281\n",
      "  359  225  210  235  261  317  280  234  164  359  423  137]\n"
     ]
    }
   ],
   "source": [
    "#no of dos in each cluster\n",
    "\n",
    "labels, counts = np.unique(km1.labels_[km1.labels_>=0], return_counts=True)\n",
    "print (labels)\n",
    "print (counts)\n"
   ]
  },
  {
   "cell_type": "code",
   "execution_count": null,
   "metadata": {},
   "outputs": [],
   "source": [
    "#labelling the clusters\n",
    "\n",
    "def print_terms(cm, num):\n",
    "    original_space_centroids = cm.cluster_centers_\n",
    "    order_centroids = original_space_centroids.argsort()[:, ::-1]\n",
    "    terms = vectorizer.get_feature_names()\n",
    "    for i in range(num):\n",
    "        print(\"Cluster %d:\" % i, end='')\n",
    "        for ind in order_centroids[i, :10]:\n",
    "            print(' %s' % terms[ind], end='')\n",
    "        print()\n",
    "\n",
    "print_terms(km1, 40)\n"
   ]
  },
  {
   "cell_type": "code",
   "execution_count": null,
   "metadata": {},
   "outputs": [],
   "source": [
    "# Let's assign the cluster label to the categories \n",
    "# Note: the order of clusters may change for differnt runs \n",
    "\n",
    "dict = { 0: 'Job Class 1', 1: 'Job Class 2' ,2: 'Job Class 3',3: 'Job Class 4',4: 'Job Class 5',5: 'Job Class 6',6: 'Job Class 7',7: 'Job Class 8',8: 'Job Class 9',9: 'Job Class 10',10: 'Job Class 11',11: 'Job Class 12',12: 'Job Class 13',13: 'Job Class 14',14: 'Job Class 15',15: 'Job Class 16',16: 'Job Class 17',17: 'Job Class 18',18: 'Job Class 19',19: 'Job Class 20',20: 'Job Class 21',21: 'Job Class 22',22: 'Job Class 23',23: 'Job Class 24',24: 'Job Class 25',25: 'Job Class 26',26: 'Job Class 27',27: 'Job Class 28',28: 'Job Class 29',29: 'Job Class 30',30: 'Job Class 31',31: 'Job Class 32',32: 'Job Class 33',33: 'Job Class 34',34: 'Job Class 35',35: 'Job Class 36',36: 'Job Class 37',37: 'Job Class 38',38: 'Job Class 39',39: 'Job Class 40'}\n",
    "print(dict)\n",
    "print(counts)\n",
    "cluster_labels = [ dict[c] for c in km1.labels_]\n"
   ]
  },
  {
   "cell_type": "code",
   "execution_count": null,
   "metadata": {},
   "outputs": [],
   "source": [
    "resumefile=open('resume.txt',mode='r')"
   ]
  },
  {
   "cell_type": "code",
   "execution_count": null,
   "metadata": {},
   "outputs": [],
   "source": [
    "resume=resumefile.read()"
   ]
  },
  {
   "cell_type": "code",
   "execution_count": null,
   "metadata": {},
   "outputs": [],
   "source": [
    "resume1=pd.Series(resume)"
   ]
  },
  {
   "cell_type": "code",
   "execution_count": null,
   "metadata": {},
   "outputs": [],
   "source": [
    "Y = vectorizer.transform(resume1)"
   ]
  },
  {
   "cell_type": "code",
   "execution_count": null,
   "metadata": {},
   "outputs": [],
   "source": [
    "predicted = km1.predict(Y)\n",
    "print(predicted)"
   ]
  },
  {
   "cell_type": "code",
   "execution_count": null,
   "metadata": {},
   "outputs": [],
   "source": [
    "cluster=predicted\n",
    "cluster=cluster.item()\n",
    "result=dict.get(cluster)\n",
    "result"
   ]
  },
  {
   "cell_type": "code",
   "execution_count": null,
   "metadata": {},
   "outputs": [],
   "source": [
    "jobdescription['predicted']=cluster_labels"
   ]
  },
  {
   "cell_type": "code",
   "execution_count": null,
   "metadata": {},
   "outputs": [],
   "source": [
    "\n",
    "jobtitle=jobdescription['ID']\n",
    "jobdesc=jobdescription['Job Title']\n",
    "predict=jobdescription['predicted']\n",
    "\n",
    "finalresume=zip(jobtitle,jobdesc,predict)"
   ]
  },
  {
   "cell_type": "code",
   "execution_count": null,
   "metadata": {},
   "outputs": [],
   "source": [
    "\n",
    "for a,b,c in finalresume:\n",
    "    if (c==result):\n",
    "        print(a,b)\n"
   ]
  },
  {
   "cell_type": "code",
   "execution_count": 1,
   "metadata": {},
   "outputs": [
    {
     "name": "stderr",
     "output_type": "stream",
     "text": [
      "<ipython-input-1-56e523b626b7>:18: UserWarning: Matplotlib is currently using module://ipykernel.pylab.backend_inline, which is a non-GUI backend, so cannot show the figure.\n",
      "  fig.show()\n"
     ]
    },
    {
     "data": {
      "image/png": "[encoded data removed]",
      "text/plain": [
       "<Figure size 432x288 with 2 Axes>"
      ]
     },
     "metadata": {
      "needs_background": "light"
     },
     "output_type": "display_data"
    }
   ],
   "source": [
    "\n",
    "import numpy as np\n",
    "import matplotlib.pyplot as plt\n",
    "\n",
    "x = np.random.randn(10)\n",
    "y = np.random.randn(10)\n",
    "Cluster = np.array([0, 1, 1, 1, 3, 2, 2, 3, 0, 2])    # Labels of cluster 0 to 3\n",
    "centers = np.random.randn(4, 2) \n",
    "\n",
    "fig = plt.figure()\n",
    "ax = fig.add_subplot(111)\n",
    "scatter = ax.scatter(x,y,c=Cluster,s=50)\n",
    "for i,j in centers:\n",
    "    ax.scatter(i,j,s=50,c='red',marker='+')\n",
    "ax.set_xlabel('x')\n",
    "ax.set_ylabel('y')\n",
    "plt.colorbar(scatter)\n",
    "\n",
    "fig.show()"
   ]
  },
  {
   "cell_type": "code",
   "execution_count": 13,
   "metadata": {},
   "outputs": [],
   "source": [
    "from tkinter import *\n",
    "\n",
    "window = Tk()\n",
    "\n",
    "window.title(\"FIND YOUR JOB !!!\")\n",
    "\n",
    "window.geometry('500x500')\n",
    "\n",
    "lbl = Label(window, text=\"JOB YOUR HAVE BEEN WAITING FOR\")\n",
    "lbl1 = Label(window, text=\"UPLOAD YOUR RESUME HERE :\")\n",
    "\n",
    "lbl.grid(column=2, row=5)\n",
    "lbl1.grid(column=2, row=10)\n",
    "\n",
    "txt = Entry(window,width=50)\n",
    "\n",
    "txt.grid(column=2, row=11)\n",
    "\n",
    "def clicked():\n",
    "\n",
    "    #res = \"Jobs matching your profile \" + txt.get()\n",
    "\n",
    "    #lbl.configure(text= res)\n",
    "    txt1 = Entry(window,width=50)\n",
    "    txt1.grid(column=2, row=15)\n",
    "    \n",
    "from tkinter import messagebox\n",
    "\n",
    "messagebox.showinfo('Message title','Message content')\n",
    "\n",
    "window.title(\"ERROR!!!\")\n",
    "\n",
    "window.geometry('350x200')\n",
    "\n",
    "\n",
    "def clicked1():\n",
    "\n",
    "    messagebox.showinfo('Message title', 'Message content')\n",
    "    \n",
    "    \n",
    "\n",
    "if(txt.get()=='resume.doc'):\n",
    "    btn = Button(window, text=\"UPLOAD\", command=clicked)\n",
    "    btn.grid(column=4, row=11)\n",
    "else:\n",
    "    btn = Button(window, text=\"UPLOAD\", command=clicked1)\n",
    "    btn.grid(column=4, row=11)\n",
    "\n",
    "window.mainloop()\n",
    "\n",
    "\n",
    "\n",
    "#btn = Button(window,text='Click here', command=clicked)\n",
    "\n",
    "#btn.grid(column=0,row=0)\n",
    "\n",
    "#window.mainloop()\n"
   ]
  },
  {
   "cell_type": "code",
   "execution_count": null,
   "metadata": {},
   "outputs": [],
   "source": []
  }
 ],
 "metadata": {
  "kernelspec": {
   "display_name": "Python 3",
   "language": "python",
   "name": "python3"
  },
  "language_info": {
   "codemirror_mode": {
    "name": "ipython",
    "version": 3
   },
   "file_extension": ".py",
   "mimetype": "text/x-python",
   "name": "python",
   "nbconvert_exporter": "python",
   "pygments_lexer": "ipython3",
   "version": "3.8.3"
  }
 },
 "nbformat": 4,
 "nbformat_minor": 4
}
