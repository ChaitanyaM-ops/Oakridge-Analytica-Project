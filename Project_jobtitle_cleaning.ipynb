{
 "cells": [
  {
   "cell_type": "code",
   "execution_count": 1,
   "metadata": {},
   "outputs": [],
   "source": [
    "import numpy as np \n",
    "import pandas as pd "
   ]
  },
  {
   "cell_type": "code",
   "execution_count": 2,
   "metadata": {},
   "outputs": [],
   "source": [
    "job = pd.read_excel('CompiledAnalyticsData_excel.xlsx')"
   ]
  },
  {
   "cell_type": "code",
   "execution_count": 3,
   "metadata": {},
   "outputs": [],
   "source": [
    "job['Clean Job Title']= job['Job Title'].str.upper().replace('[^A-Z0-9]+',' ',regex=True) "
   ]
  },
  {
   "cell_type": "code",
   "execution_count": 4,
   "metadata": {},
   "outputs": [
    {
     "data": {
      "text/html": [
       "<div>\n",
       "<style scoped>\n",
       "    .dataframe tbody tr th:only-of-type {\n",
       "        vertical-align: middle;\n",
       "    }\n",
       "\n",
       "    .dataframe tbody tr th {\n",
       "        vertical-align: top;\n",
       "    }\n",
       "\n",
       "    .dataframe thead th {\n",
       "        text-align: right;\n",
       "    }\n",
       "</style>\n",
       "<table border=\"1\" class=\"dataframe\">\n",
       "  <thead>\n",
       "    <tr style=\"text-align: right;\">\n",
       "      <th></th>\n",
       "      <th>Unnamed: 0</th>\n",
       "      <th>Unnamed: 0.1</th>\n",
       "      <th>ID</th>\n",
       "      <th>Job Class</th>\n",
       "      <th>Job Title</th>\n",
       "      <th>Salary Estimate</th>\n",
       "      <th>Job Description</th>\n",
       "      <th>Rating</th>\n",
       "      <th>Company Name</th>\n",
       "      <th>Location</th>\n",
       "      <th>...</th>\n",
       "      <th>Founded</th>\n",
       "      <th>Type of ownership</th>\n",
       "      <th>Industry</th>\n",
       "      <th>Sector</th>\n",
       "      <th>Revenue</th>\n",
       "      <th>Competitors</th>\n",
       "      <th>Easy Apply</th>\n",
       "      <th>Clean Job Title</th>\n",
       "      <th>Clean Job Description</th>\n",
       "      <th>skills</th>\n",
       "    </tr>\n",
       "  </thead>\n",
       "  <tbody>\n",
       "    <tr>\n",
       "      <th>0</th>\n",
       "      <td>0</td>\n",
       "      <td>0</td>\n",
       "      <td>0</td>\n",
       "      <td>Data Analyst</td>\n",
       "      <td>Data Analyst, Center on Immigration and Justic...</td>\n",
       "      <td>$37K-$66K (Glassdoor est.)</td>\n",
       "      <td>Are you eager to roll up your sleeves and harn...</td>\n",
       "      <td>3.2</td>\n",
       "      <td>Vera Institute of Justice\\n3.2</td>\n",
       "      <td>New York, NY</td>\n",
       "      <td>...</td>\n",
       "      <td>1961</td>\n",
       "      <td>Nonprofit Organization</td>\n",
       "      <td>Social Assistance</td>\n",
       "      <td>Non-Profit</td>\n",
       "      <td>$100 to $500 million (USD)</td>\n",
       "      <td>-1</td>\n",
       "      <td>1</td>\n",
       "      <td>DATA ANALYST CENTER ON IMMIGRATION AND JUSTICE...</td>\n",
       "      <td>taking party call record set impede real eager...</td>\n",
       "      <td>['sql', 'aws', 'python', 'r', 'analysis']</td>\n",
       "    </tr>\n",
       "    <tr>\n",
       "      <th>1</th>\n",
       "      <td>1</td>\n",
       "      <td>1</td>\n",
       "      <td>1</td>\n",
       "      <td>Data Analyst</td>\n",
       "      <td>Quality Data Analyst</td>\n",
       "      <td>$37K-$66K (Glassdoor est.)</td>\n",
       "      <td>Overview\\n\\nProvides analytical and technical ...</td>\n",
       "      <td>3.8</td>\n",
       "      <td>Visiting Nurse Service of New York\\n3.8</td>\n",
       "      <td>New York, NY</td>\n",
       "      <td>...</td>\n",
       "      <td>1893</td>\n",
       "      <td>Nonprofit Organization</td>\n",
       "      <td>Health Care Services &amp; Hospitals</td>\n",
       "      <td>Health Care</td>\n",
       "      <td>$2 to $5 billion (USD)</td>\n",
       "      <td>-1</td>\n",
       "      <td>-1</td>\n",
       "      <td>QUALITY DATA ANALYST</td>\n",
       "      <td>train trend PLSQL topic dashborads computersci...</td>\n",
       "      <td>['computerscience', 'master', 'analytics', 'he...</td>\n",
       "    </tr>\n",
       "    <tr>\n",
       "      <th>2</th>\n",
       "      <td>2</td>\n",
       "      <td>2</td>\n",
       "      <td>2</td>\n",
       "      <td>Data Analyst</td>\n",
       "      <td>Senior Data Analyst, Insights &amp; Analytics Team...</td>\n",
       "      <td>$37K-$66K (Glassdoor est.)</td>\n",
       "      <td>We’re looking for a Senior Data Analyst who ha...</td>\n",
       "      <td>3.4</td>\n",
       "      <td>Squarespace\\n3.4</td>\n",
       "      <td>New York, NY</td>\n",
       "      <td>...</td>\n",
       "      <td>2003</td>\n",
       "      <td>Company - Private</td>\n",
       "      <td>Internet</td>\n",
       "      <td>Information Technology</td>\n",
       "      <td>Unknown / Non-Applicable</td>\n",
       "      <td>GoDaddy</td>\n",
       "      <td>-1</td>\n",
       "      <td>SENIOR DATA ANALYST INSIGHTS ANALYTICS TEAM CU...</td>\n",
       "      <td>dset dublin iconic dashborads master acting li...</td>\n",
       "      <td>['master', 'sql', 'engineering', 'phd', 'table...</td>\n",
       "    </tr>\n",
       "  </tbody>\n",
       "</table>\n",
       "<p>3 rows × 22 columns</p>\n",
       "</div>"
      ],
      "text/plain": [
       "   Unnamed: 0  Unnamed: 0.1  ID     Job Class  \\\n",
       "0           0             0   0  Data Analyst   \n",
       "1           1             1   1  Data Analyst   \n",
       "2           2             2   2  Data Analyst   \n",
       "\n",
       "                                           Job Title  \\\n",
       "0  Data Analyst, Center on Immigration and Justic...   \n",
       "1                               Quality Data Analyst   \n",
       "2  Senior Data Analyst, Insights & Analytics Team...   \n",
       "\n",
       "              Salary Estimate  \\\n",
       "0  $37K-$66K (Glassdoor est.)   \n",
       "1  $37K-$66K (Glassdoor est.)   \n",
       "2  $37K-$66K (Glassdoor est.)   \n",
       "\n",
       "                                     Job Description  Rating  \\\n",
       "0  Are you eager to roll up your sleeves and harn...     3.2   \n",
       "1  Overview\\n\\nProvides analytical and technical ...     3.8   \n",
       "2  We’re looking for a Senior Data Analyst who ha...     3.4   \n",
       "\n",
       "                              Company Name      Location  ... Founded  \\\n",
       "0           Vera Institute of Justice\\n3.2  New York, NY  ...    1961   \n",
       "1  Visiting Nurse Service of New York\\n3.8  New York, NY  ...    1893   \n",
       "2                         Squarespace\\n3.4  New York, NY  ...    2003   \n",
       "\n",
       "        Type of ownership                          Industry  \\\n",
       "0  Nonprofit Organization                 Social Assistance   \n",
       "1  Nonprofit Organization  Health Care Services & Hospitals   \n",
       "2       Company - Private                          Internet   \n",
       "\n",
       "                   Sector                     Revenue Competitors Easy Apply  \\\n",
       "0              Non-Profit  $100 to $500 million (USD)          -1          1   \n",
       "1             Health Care      $2 to $5 billion (USD)          -1         -1   \n",
       "2  Information Technology    Unknown / Non-Applicable     GoDaddy         -1   \n",
       "\n",
       "                                     Clean Job Title  \\\n",
       "0  DATA ANALYST CENTER ON IMMIGRATION AND JUSTICE...   \n",
       "1                               QUALITY DATA ANALYST   \n",
       "2  SENIOR DATA ANALYST INSIGHTS ANALYTICS TEAM CU...   \n",
       "\n",
       "                               Clean Job Description  \\\n",
       "0  taking party call record set impede real eager...   \n",
       "1  train trend PLSQL topic dashborads computersci...   \n",
       "2  dset dublin iconic dashborads master acting li...   \n",
       "\n",
       "                                              skills  \n",
       "0          ['sql', 'aws', 'python', 'r', 'analysis']  \n",
       "1  ['computerscience', 'master', 'analytics', 'he...  \n",
       "2  ['master', 'sql', 'engineering', 'phd', 'table...  \n",
       "\n",
       "[3 rows x 22 columns]"
      ]
     },
     "execution_count": 4,
     "metadata": {},
     "output_type": "execute_result"
    }
   ],
   "source": [
    "job.head(3)"
   ]
  },
  {
   "cell_type": "code",
   "execution_count": 5,
   "metadata": {},
   "outputs": [
    {
     "name": "stdout",
     "output_type": "stream",
     "text": [
      "Requirement already satisfied: nltk in c:\\users\\rupal\\anaconda3\\lib\\site-packages (3.5)\n",
      "Requirement already satisfied: click in c:\\users\\rupal\\anaconda3\\lib\\site-packages (from nltk) (7.1.2)\n",
      "Requirement already satisfied: tqdm in c:\\users\\rupal\\anaconda3\\lib\\site-packages (from nltk) (4.47.0)\n",
      "Requirement already satisfied: joblib in c:\\users\\rupal\\anaconda3\\lib\\site-packages (from nltk) (0.16.0)\n",
      "Requirement already satisfied: regex in c:\\users\\rupal\\anaconda3\\lib\\site-packages (from nltk) (2020.6.8)\n"
     ]
    }
   ],
   "source": [
    "!pip install nltk"
   ]
  },
  {
   "cell_type": "code",
   "execution_count": 6,
   "metadata": {},
   "outputs": [],
   "source": [
    "import string\n",
    "import nltk\n",
    "from nltk import word_tokenize\n",
    "from nltk.corpus import stopwords"
   ]
  },
  {
   "cell_type": "code",
   "execution_count": 7,
   "metadata": {},
   "outputs": [
    {
     "name": "stdout",
     "output_type": "stream",
     "text": [
      "showing info https://raw.githubusercontent.com/nltk/nltk_data/gh-pages/index.xml\n"
     ]
    },
    {
     "data": {
      "text/plain": [
       "True"
      ]
     },
     "execution_count": 7,
     "metadata": {},
     "output_type": "execute_result"
    }
   ],
   "source": [
    "nltk.download()"
   ]
  },
  {
   "cell_type": "code",
   "execution_count": 8,
   "metadata": {},
   "outputs": [],
   "source": [
    "newstopwords=stopwords.words(\"English\")+['TX','REMOTE','URGENT','YRS','REQUIRED','NATIONWIDE','OPPORTUNITIES','AND','ON','WITH','LEVEL','OR','HOUSTON','SAN','DIEGO','OR','ATLANTA','GA','FOR','NORTH','AMERICAN','NY','MULTIPLE','POSITIONS','ONLY','OPPORTUNITY','FUTURE','YEAR','NYC','MONTH','ROSTER','DIRECT','HIRE','MAY','RESIDE','ANYWHERE','IN','THE','US','UP','TO','TRAVEL','IS','YEARS','NEED','TEXAS','DALLAS','REQUIREMENTS','XYZ','CANADA','PHILADELPHIA','FA','PA','A']"
   ]
  },
  {
   "cell_type": "code",
   "execution_count": 9,
   "metadata": {},
   "outputs": [],
   "source": [
    "\n",
    "def pre_process(text): \n",
    "    \n",
    "    tokens = nltk.word_tokenize(text)\n",
    "    tokens=[t.upper() for t in tokens]\n",
    "    tokens=[ t for t in tokens if ((t.isnumeric() and len(t)==1) or ( not t.isnumeric()))]\n",
    "    tokens=[word for word in tokens if word not in newstopwords]\n",
    "    text_after_process=' '.join(tokens)\n",
    "    return(text_after_process)\n",
    "\n",
    "#Apply the function on each document\n",
    "job['Clean Job Title'] = job['Clean Job Title'].apply(pre_process)"
   ]
  },
  {
   "cell_type": "code",
   "execution_count": 10,
   "metadata": {},
   "outputs": [],
   "source": [
    "job['Clean Job Title']= job['Clean Job Title'].replace(['BUSINESS INTELLIGENCE','INFORMATION TECHNOLOGY','QUALITY ASSURANCE','USER EXPERIENCE','USER INTERFACE','DATA WAREHOUSE','DATA BASE','DATA QUALITY','DATA GOVERNANCE','DATA MANAGEMENT','SCIENTIST INDUSTRIAL','ACCENTURE INFRASTRUCTURE','0','1','2','3','4','PRINCIPAL'],\n",
    "    ['BI','IT','QA','UX','UI','DATA_WAREHOUSE','DATABASE','DATA_QUALITY','DATA_GOVERNANCE','DATA_MANAGEMENT','SCIENTIST_INDUSTRIAL','ACCENTURE_INFRASTRUCTURE','I','I','II','III','IV','LEAD'],regex=True)"
   ]
  },
  {
   "cell_type": "code",
   "execution_count": 11,
   "metadata": {},
   "outputs": [
    {
     "data": {
      "text/plain": [
       "'DATA ANALYST CENTER IMMIGRATION JUSTICE CIJ'"
      ]
     },
     "execution_count": 11,
     "metadata": {},
     "output_type": "execute_result"
    }
   ],
   "source": [
    "job['Clean Job Title'][0]"
   ]
  },
  {
   "cell_type": "code",
   "execution_count": 12,
   "metadata": {},
   "outputs": [],
   "source": [
    "\n",
    "job['Clean Job Title']=job['Clean Job Title'].replace(['SYSTEMS','PRODUCTS','SOLUTIONS','GAMES','ANALYTICS','FINANCE','ENGINEERING','INTERN','TRAINEE','FRESHER','ENTRY','ANALYSTS','SR','JR',' III',' II',' IV','[^A-Z0-9]I[^A-Z0-9]','[^A-Z0-9]I$','^I[^A-Z0-9]','[^A-Z0-9]V[^A-Z0-9]','[^A-Z0-9]V$','^V[^A-Z0-9]'],\n",
    "                                                      ['SYSTEM','PRODUCT','ANALYTIC','SOLUTION','GAME','FINANCIAL','ENGINEER','JUNIOR','JUNIOR','JUNIOR','JUNIOR','ANALYST','SENIOR','JUNIOR',' SENIOR',' SENIOR',' LEAD','JUNIOR',' JUNIOR','JUNIOR ','LEAD',' LEAD','LEAD '],regex=True)\n"
   ]
  },
  {
   "cell_type": "code",
   "execution_count": 13,
   "metadata": {},
   "outputs": [
    {
     "data": {
      "text/plain": [
       "'DATA ANALYST CENTER IMMIGRATION JUSTICE CIJ'"
      ]
     },
     "execution_count": 13,
     "metadata": {},
     "output_type": "execute_result"
    }
   ],
   "source": [
    "job['Clean Job Title'][0]"
   ]
  },
  {
   "cell_type": "code",
   "execution_count": 14,
   "metadata": {},
   "outputs": [],
   "source": [
    "job['Clean Job Title']= job['Clean Job Title'].replace(\n",
    "    ['JUNIOR JUNIOR','JUNIORJUNIOR','SENIOR SENIOR','SENIORSENIOR'],['JUNIOR',' JUNIOR','SENIOR',' SENIOR'],regex=True)"
   ]
  },
  {
   "cell_type": "code",
   "execution_count": 15,
   "metadata": {},
   "outputs": [],
   "source": [
    "job['Clean Job Title']= job['Clean Job Title'].replace(\n",
    "    ['DATA ANALYST JUNIOR','DATA ANALYST SENIOR','BUSINESS ANALYST JUNIOR','BUSINESS ANALYST SENIOR','DATA ENGINEER JUNIOR','BUSINESS SYSTEM ANALYST JUNIOR','DATA SCIENTIST JUNIOR','DATA ENGINEER SENIOR','DATA ARCHITECT JUNIOR','BUSINESS SYSTEM ANALYST SENIOR','BI ANALYST JUNIOR','PROGRAM ANALYST JUNIOR','DATA SCIENTIST SENIOR','SOFTWARE ENGINEER JUNIOR','SCIENTIST JUNIOR','DATA ANALYST LEAD','BUSINESS ANALYST LEAD','DATA ENGINEER LEAD','BUSINESS SYSTEM ANALYST LEAD','DATA SCIENTIST LEAD'],\n",
    "    ['JUNIOR DATA ANALYST','SENIOR DATA ANALYST','JUNIOR BUSINESS ANALYST','SENIOR BUSINESS ANALYST','JUNIOR DATA ENGINEER','JUNIOR BUSINESS SYSTEM ANALYST','JUNIOR DATA SCIENTIST','SENIOR DATA ENGINEER','JUNIOR DATA ARCHITECT','SENIOR BUSINESS SYSTEM ANALYST','JUNIOR BI ANALYST','JUNIOR PROGRAM ANALYST','SENIOR DATA SCIENTIST','JUNIOR SOFTWARE ENGINEER','JUNIOR SCIENTIST','LEAD DATA ANALYST','LEAD BUSINESS ANALYST','LEAD DATA ENGINEER','LEAD BUSINESS SYSTEM ANALYST','LEAD DATA SCIENTIST'],regex=True)"
   ]
  },
  {
   "cell_type": "code",
   "execution_count": 16,
   "metadata": {},
   "outputs": [],
   "source": [
    "jobCount=job.groupby('Clean Job Title')[['Clean Job Title']].count().rename(\n",
    "    columns={'Clean Job Title':'Count'}).sort_values('Count',ascending=False)"
   ]
  },
  {
   "cell_type": "code",
   "execution_count": 17,
   "metadata": {},
   "outputs": [
    {
     "data": {
      "text/plain": [
       "5031"
      ]
     },
     "execution_count": 17,
     "metadata": {},
     "output_type": "execute_result"
    }
   ],
   "source": [
    "len(jobCount)"
   ]
  },
  {
   "cell_type": "code",
   "execution_count": 18,
   "metadata": {
    "scrolled": true
   },
   "outputs": [
    {
     "data": {
      "text/html": [
       "<div>\n",
       "<style scoped>\n",
       "    .dataframe tbody tr th:only-of-type {\n",
       "        vertical-align: middle;\n",
       "    }\n",
       "\n",
       "    .dataframe tbody tr th {\n",
       "        vertical-align: top;\n",
       "    }\n",
       "\n",
       "    .dataframe thead th {\n",
       "        text-align: right;\n",
       "    }\n",
       "</style>\n",
       "<table border=\"1\" class=\"dataframe\">\n",
       "  <thead>\n",
       "    <tr style=\"text-align: right;\">\n",
       "      <th></th>\n",
       "      <th>Count</th>\n",
       "    </tr>\n",
       "    <tr>\n",
       "      <th>Clean Job Title</th>\n",
       "      <th></th>\n",
       "    </tr>\n",
       "  </thead>\n",
       "  <tbody>\n",
       "    <tr>\n",
       "      <th>DATA ANALYST</th>\n",
       "      <td>839</td>\n",
       "    </tr>\n",
       "    <tr>\n",
       "      <th>DATA ENGINEER</th>\n",
       "      <td>773</td>\n",
       "    </tr>\n",
       "    <tr>\n",
       "      <th>BUSINESS ANALYST</th>\n",
       "      <td>536</td>\n",
       "    </tr>\n",
       "    <tr>\n",
       "      <th>DATA SCIENTIST</th>\n",
       "      <td>308</td>\n",
       "    </tr>\n",
       "    <tr>\n",
       "      <th>SENIOR DATA ANALYST</th>\n",
       "      <td>256</td>\n",
       "    </tr>\n",
       "    <tr>\n",
       "      <th>SENIOR DATA ENGINEER</th>\n",
       "      <td>252</td>\n",
       "    </tr>\n",
       "    <tr>\n",
       "      <th>SENIOR BUSINESS ANALYST</th>\n",
       "      <td>169</td>\n",
       "    </tr>\n",
       "    <tr>\n",
       "      <th>BUSINESS SYSTEM ANALYST</th>\n",
       "      <td>153</td>\n",
       "    </tr>\n",
       "    <tr>\n",
       "      <th>SENIOR DATA SCIENTIST</th>\n",
       "      <td>147</td>\n",
       "    </tr>\n",
       "    <tr>\n",
       "      <th>JUNIOR BUSINESS ANALYST</th>\n",
       "      <td>123</td>\n",
       "    </tr>\n",
       "    <tr>\n",
       "      <th>BIG DATA ENGINEER</th>\n",
       "      <td>123</td>\n",
       "    </tr>\n",
       "    <tr>\n",
       "      <th>JUNIOR DATA ANALYST</th>\n",
       "      <td>119</td>\n",
       "    </tr>\n",
       "    <tr>\n",
       "      <th>SOFTWARE ENGINEER</th>\n",
       "      <td>99</td>\n",
       "    </tr>\n",
       "    <tr>\n",
       "      <th>BI ANALYST</th>\n",
       "      <td>98</td>\n",
       "    </tr>\n",
       "    <tr>\n",
       "      <th>MACHINE LEARNING ENGINEER</th>\n",
       "      <td>65</td>\n",
       "    </tr>\n",
       "    <tr>\n",
       "      <th>BUSINESS DATA ANALYST</th>\n",
       "      <td>64</td>\n",
       "    </tr>\n",
       "    <tr>\n",
       "      <th>SENIOR BUSINESS SYSTEM ANALYST</th>\n",
       "      <td>50</td>\n",
       "    </tr>\n",
       "    <tr>\n",
       "      <th>LEAD DATA SCIENTIST</th>\n",
       "      <td>40</td>\n",
       "    </tr>\n",
       "    <tr>\n",
       "      <th>SYSTEM ANALYST</th>\n",
       "      <td>36</td>\n",
       "    </tr>\n",
       "    <tr>\n",
       "      <th>TECHNICAL BUSINESS ANALYST</th>\n",
       "      <td>36</td>\n",
       "    </tr>\n",
       "    <tr>\n",
       "      <th>LEAD DATA ANALYST</th>\n",
       "      <td>35</td>\n",
       "    </tr>\n",
       "    <tr>\n",
       "      <th>IT BUSINESS ANALYST</th>\n",
       "      <td>31</td>\n",
       "    </tr>\n",
       "    <tr>\n",
       "      <th>LEAD DATA ENGINEER</th>\n",
       "      <td>31</td>\n",
       "    </tr>\n",
       "    <tr>\n",
       "      <th>JUNIOR DATA ENGINEER</th>\n",
       "      <td>30</td>\n",
       "    </tr>\n",
       "    <tr>\n",
       "      <th>FINANCIAL ANALYST</th>\n",
       "      <td>28</td>\n",
       "    </tr>\n",
       "    <tr>\n",
       "      <th>SENIOR BIG DATA ENGINEER</th>\n",
       "      <td>27</td>\n",
       "    </tr>\n",
       "    <tr>\n",
       "      <th>RESEARCH SCIENTIST</th>\n",
       "      <td>24</td>\n",
       "    </tr>\n",
       "    <tr>\n",
       "      <th>AZURE DATA ENGINEER</th>\n",
       "      <td>24</td>\n",
       "    </tr>\n",
       "    <tr>\n",
       "      <th>PROJECT ANALYST</th>\n",
       "      <td>23</td>\n",
       "    </tr>\n",
       "    <tr>\n",
       "      <th>MANAGEMENT ANALYST</th>\n",
       "      <td>22</td>\n",
       "    </tr>\n",
       "    <tr>\n",
       "      <th>FINANCIAL DATA ANALYST</th>\n",
       "      <td>21</td>\n",
       "    </tr>\n",
       "    <tr>\n",
       "      <th>MARKETING DATA ANALYST</th>\n",
       "      <td>21</td>\n",
       "    </tr>\n",
       "    <tr>\n",
       "      <th>DATA REPORTING ANALYST</th>\n",
       "      <td>21</td>\n",
       "    </tr>\n",
       "    <tr>\n",
       "      <th>LEAD BUSINESS ANALYST</th>\n",
       "      <td>21</td>\n",
       "    </tr>\n",
       "    <tr>\n",
       "      <th>DATA_QUALITY ANALYST</th>\n",
       "      <td>19</td>\n",
       "    </tr>\n",
       "    <tr>\n",
       "      <th>SALESFORCE BUSINESS ANALYST</th>\n",
       "      <td>19</td>\n",
       "    </tr>\n",
       "    <tr>\n",
       "      <th>DATA MODELER</th>\n",
       "      <td>19</td>\n",
       "    </tr>\n",
       "    <tr>\n",
       "      <th>MICROSOFT DYNAMICS CRM DATA ANALYST</th>\n",
       "      <td>18</td>\n",
       "    </tr>\n",
       "    <tr>\n",
       "      <th>DATA_GOVERNANCE ANALYST</th>\n",
       "      <td>18</td>\n",
       "    </tr>\n",
       "    <tr>\n",
       "      <th>BUSINESS ANALYSTJUNIORSENIOR</th>\n",
       "      <td>17</td>\n",
       "    </tr>\n",
       "    <tr>\n",
       "      <th>BUSINESS PROCESS ANALYST</th>\n",
       "      <td>17</td>\n",
       "    </tr>\n",
       "    <tr>\n",
       "      <th>RESEARCH DATA ANALYST</th>\n",
       "      <td>16</td>\n",
       "    </tr>\n",
       "    <tr>\n",
       "      <th>SYSTEM ENGINEER</th>\n",
       "      <td>16</td>\n",
       "    </tr>\n",
       "    <tr>\n",
       "      <th>FEDERAL SENIOR DATA ENGINEER</th>\n",
       "      <td>15</td>\n",
       "    </tr>\n",
       "    <tr>\n",
       "      <th>DATA_WAREHOUSE ENGINEER</th>\n",
       "      <td>14</td>\n",
       "    </tr>\n",
       "    <tr>\n",
       "      <th>CLOUD DATA ENGINEER</th>\n",
       "      <td>14</td>\n",
       "    </tr>\n",
       "    <tr>\n",
       "      <th>SENIOR SOFTWARE ENGINEER</th>\n",
       "      <td>14</td>\n",
       "    </tr>\n",
       "    <tr>\n",
       "      <th>PRODUCT DATA ANALYST</th>\n",
       "      <td>14</td>\n",
       "    </tr>\n",
       "    <tr>\n",
       "      <th>STATISTICIAN DATA SCIENTIST</th>\n",
       "      <td>14</td>\n",
       "    </tr>\n",
       "    <tr>\n",
       "      <th>FEDERAL DATA SCIENTIST</th>\n",
       "      <td>14</td>\n",
       "    </tr>\n",
       "  </tbody>\n",
       "</table>\n",
       "</div>"
      ],
      "text/plain": [
       "                                     Count\n",
       "Clean Job Title                           \n",
       "DATA ANALYST                           839\n",
       "DATA ENGINEER                          773\n",
       "BUSINESS ANALYST                       536\n",
       "DATA SCIENTIST                         308\n",
       "SENIOR DATA ANALYST                    256\n",
       "SENIOR DATA ENGINEER                   252\n",
       "SENIOR BUSINESS ANALYST                169\n",
       "BUSINESS SYSTEM ANALYST                153\n",
       "SENIOR DATA SCIENTIST                  147\n",
       "JUNIOR BUSINESS ANALYST                123\n",
       "BIG DATA ENGINEER                      123\n",
       "JUNIOR DATA ANALYST                    119\n",
       "SOFTWARE ENGINEER                       99\n",
       "BI ANALYST                              98\n",
       "MACHINE LEARNING ENGINEER               65\n",
       "BUSINESS DATA ANALYST                   64\n",
       "SENIOR BUSINESS SYSTEM ANALYST          50\n",
       "LEAD DATA SCIENTIST                     40\n",
       "SYSTEM ANALYST                          36\n",
       "TECHNICAL BUSINESS ANALYST              36\n",
       "LEAD DATA ANALYST                       35\n",
       "IT BUSINESS ANALYST                     31\n",
       "LEAD DATA ENGINEER                      31\n",
       "JUNIOR DATA ENGINEER                    30\n",
       "FINANCIAL ANALYST                       28\n",
       "SENIOR BIG DATA ENGINEER                27\n",
       "RESEARCH SCIENTIST                      24\n",
       "AZURE DATA ENGINEER                     24\n",
       "PROJECT ANALYST                         23\n",
       "MANAGEMENT ANALYST                      22\n",
       "FINANCIAL DATA ANALYST                  21\n",
       "MARKETING DATA ANALYST                  21\n",
       "DATA REPORTING ANALYST                  21\n",
       "LEAD BUSINESS ANALYST                   21\n",
       "DATA_QUALITY ANALYST                    19\n",
       "SALESFORCE BUSINESS ANALYST             19\n",
       "DATA MODELER                            19\n",
       "MICROSOFT DYNAMICS CRM DATA ANALYST     18\n",
       "DATA_GOVERNANCE ANALYST                 18\n",
       "BUSINESS ANALYSTJUNIORSENIOR            17\n",
       "BUSINESS PROCESS ANALYST                17\n",
       "RESEARCH DATA ANALYST                   16\n",
       "SYSTEM ENGINEER                         16\n",
       "FEDERAL SENIOR DATA ENGINEER            15\n",
       "DATA_WAREHOUSE ENGINEER                 14\n",
       "CLOUD DATA ENGINEER                     14\n",
       "SENIOR SOFTWARE ENGINEER                14\n",
       "PRODUCT DATA ANALYST                    14\n",
       "STATISTICIAN DATA SCIENTIST             14\n",
       "FEDERAL DATA SCIENTIST                  14"
      ]
     },
     "execution_count": 18,
     "metadata": {},
     "output_type": "execute_result"
    }
   ],
   "source": [
    "jobCount[0:50]"
   ]
  },
  {
   "cell_type": "code",
   "execution_count": 19,
   "metadata": {},
   "outputs": [],
   "source": [
    "job.to_excel('CompiledAnalyticsData_excel.xlsx')"
   ]
  },
  {
   "cell_type": "code",
   "execution_count": null,
   "metadata": {},
   "outputs": [],
   "source": []
  }
 ],
 "metadata": {
  "kernelspec": {
   "display_name": "Python 3",
   "language": "python",
   "name": "python3"
  },
  "language_info": {
   "codemirror_mode": {
    "name": "ipython",
    "version": 3
   },
   "file_extension": ".py",
   "mimetype": "text/x-python",
   "name": "python",
   "nbconvert_exporter": "python",
   "pygments_lexer": "ipython3",
   "version": "3.8.3"
  }
 },
 "nbformat": 4,
 "nbformat_minor": 4
}
